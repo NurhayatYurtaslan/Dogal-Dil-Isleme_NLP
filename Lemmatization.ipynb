{
  "nbformat": 4,
  "nbformat_minor": 0,
  "metadata": {
    "colab": {
      "provenance": [],
      "authorship_tag": "ABX9TyO+3ZhIrytJ7MUr9xpOkWbH",
      "include_colab_link": true
    },
    "kernelspec": {
      "name": "python3",
      "display_name": "Python 3"
    },
    "language_info": {
      "name": "python"
    }
  },
  "cells": [
    {
      "cell_type": "markdown",
      "metadata": {
        "id": "view-in-github",
        "colab_type": "text"
      },
      "source": [
        "<a href=\"https://colab.research.google.com/github/NurhayatYurtaslan/Dogal-Dil-Isleme_NLP/blob/main/Lemmatization.ipynb\" target=\"_parent\"><img src=\"https://colab.research.google.com/assets/colab-badge.svg\" alt=\"Open In Colab\"/></a>"
      ]
    },
    {
      "cell_type": "code",
      "execution_count": 2,
      "metadata": {
        "colab": {
          "base_uri": "https://localhost:8080/"
        },
        "id": "3AZ1G2V0Hu33",
        "outputId": "86e75600-c8dc-40d0-9185-62da50b16307"
      },
      "outputs": [
        {
          "output_type": "stream",
          "name": "stderr",
          "text": [
            "[nltk_data] Downloading package wordnet to /root/nltk_data...\n"
          ]
        },
        {
          "output_type": "stream",
          "name": "stdout",
          "text": [
            "Word: running\n",
            "Lemma: run\n"
          ]
        }
      ],
      "source": [
        "import nltk\n",
        "nltk.download('wordnet')\n",
        "\n",
        "from nltk.stem import WordNetLemmatizer\n",
        "wnl = WordNetLemmatizer()\n",
        "\n",
        "word = \"running\"\n",
        "lemma = wnl.lemmatize(word, 'v')\n",
        "\n",
        "print(\"Word:\", word)\n",
        "print(\"Lemma:\", lemma)"
      ]
    },
    {
      "cell_type": "markdown",
      "source": [
        "Bu kodda, WordNetLemmatizer sınıfı kullanılarak bir kelimenin kökünün çıkarılması sağlanmaktadır. Kod, 'running' kelimesinin fiil kökünü çıkarmak için kullanılmıştır. wnl.lemmatize() fonksiyonu, kelimeyi ve kelimenin kelime sınıfını alır. Bu örnekte, kelimenin fiil olduğu 'v' olarak belirtilmiştir. Daha sonra, kelimenin fiil kökü \"run\" olarak çıkarılmış ve ekrana yazdırılmıştır."
      ],
      "metadata": {
        "id": "jh4a-WMOIc1M"
      }
    },
    {
      "cell_type": "code",
      "source": [
        "import nltk\n",
        "nltk.download('wordnet')\n",
        "\n",
        "from nltk.stem import WordNetLemmatizer\n",
        "wnl = WordNetLemmatizer()\n",
        "\n",
        "word = \"better\"\n",
        "pos = 'a' # sıfat\n",
        "lemma = wnl.lemmatize(word, pos)\n",
        "\n",
        "print(\"Word:\", word)\n",
        "print(\"POS:\", pos)\n",
        "print(\"Lemma:\", lemma)"
      ],
      "metadata": {
        "colab": {
          "base_uri": "https://localhost:8080/"
        },
        "id": "nAVERCbPIgh8",
        "outputId": "dda3c864-21cc-4393-c7d7-950c9e5ccc4b"
      },
      "execution_count": 6,
      "outputs": [
        {
          "output_type": "stream",
          "name": "stdout",
          "text": [
            "Word: better\n",
            "POS: a\n",
            "Lemma: good\n"
          ]
        },
        {
          "output_type": "stream",
          "name": "stderr",
          "text": [
            "[nltk_data] Downloading package wordnet to /root/nltk_data...\n",
            "[nltk_data]   Package wordnet is already up-to-date!\n"
          ]
        }
      ]
    },
    {
      "cell_type": "markdown",
      "source": [
        "Bu örnekte, \"better\" kelimesinin sıfat (adjective) olduğunu belirtmek için pos değişkenine \"a\" değerini atıyoruz. Daha sonra wnl.lemmatize(word, pos) metodunu kullanarak, \"better\" kelimesinin sıfat olarak lemma halini hesaplatıyoruz. Elde ettiğimiz sonucu ekrana yazdırıyoruz."
      ],
      "metadata": {
        "id": "1gdYLH0qI6QN"
      }
    },
    {
      "cell_type": "code",
      "source": [
        "from nltk.stem import WordNetLemmatizer\n",
        "wnl = WordNetLemmatizer()\n",
        "\n",
        "word = \"geese\"\n",
        "lemma = wnl.lemmatize(word, 'n')\n",
        "\n",
        "print(\"Word:\", word)\n",
        "print(\"Lemma:\", lemma)"
      ],
      "metadata": {
        "colab": {
          "base_uri": "https://localhost:8080/"
        },
        "id": "HEsOaFMmJDFN",
        "outputId": "d9fc2e01-d252-47a4-efcf-531d1cea3e47"
      },
      "execution_count": 7,
      "outputs": [
        {
          "output_type": "stream",
          "name": "stdout",
          "text": [
            "Word: geese\n",
            "Lemma: goose\n"
          ]
        }
      ]
    },
    {
      "cell_type": "markdown",
      "source": [
        "Bu kod, WordNetLemmatizer sınıfını kullanarak \"geese\" kelimesinin çoğul halini (\"geese\") tekil haline (\"goose\") indirgemek için kullanılır. 'n' argümanı, kelimenin bir isim olduğunu belirtir ve lemmatize işleminin doğru kelime biçimini seçmesine yardımcı olur."
      ],
      "metadata": {
        "id": "cGBF8JpbJKck"
      }
    },
    {
      "cell_type": "code",
      "source": [
        "import nltk\n",
        "nltk.download('wordnet')\n",
        "\n",
        "from nltk.stem import WordNetLemmatizer\n",
        "wnl = WordNetLemmatizer()\n",
        "\n",
        "word = \"went\"\n",
        "lemma = wnl.lemmatize(word, 'v')\n",
        "\n",
        "print(\"Word:\", word)\n",
        "print(\"Lemma:\", lemma)"
      ],
      "metadata": {
        "colab": {
          "base_uri": "https://localhost:8080/"
        },
        "id": "-g8zlhSUJMT9",
        "outputId": "a708c9f2-7e5e-4b68-ec91-eae4594a3f70"
      },
      "execution_count": 8,
      "outputs": [
        {
          "output_type": "stream",
          "name": "stdout",
          "text": [
            "Word: went\n",
            "Lemma: go\n"
          ]
        },
        {
          "output_type": "stream",
          "name": "stderr",
          "text": [
            "[nltk_data] Downloading package wordnet to /root/nltk_data...\n",
            "[nltk_data]   Package wordnet is already up-to-date!\n"
          ]
        }
      ]
    },
    {
      "cell_type": "markdown",
      "source": [
        "Bu örnekte, WordNetLemmatizer sınıfı kullanılarak, \"went\" kelimesinin fiil kökü bulunmaya çalışılıyor. 'v' argümanı, kelimenin fiil olduğunu belirtmek için kullanılıyor. Sonuç olarak, \"went\" kelimesinin fiil kökü olan \"go\" elde ediliyor."
      ],
      "metadata": {
        "id": "kMvuppWhJgEc"
      }
    }
  ]
}