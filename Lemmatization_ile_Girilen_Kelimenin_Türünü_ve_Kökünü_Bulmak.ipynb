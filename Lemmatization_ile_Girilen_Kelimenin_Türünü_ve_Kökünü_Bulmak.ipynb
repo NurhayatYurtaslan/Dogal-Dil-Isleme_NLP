{
  "nbformat": 4,
  "nbformat_minor": 0,
  "metadata": {
    "colab": {
      "provenance": [],
      "authorship_tag": "ABX9TyPE1roZUSe2u87jX+FKrxtV",
      "include_colab_link": true
    },
    "kernelspec": {
      "name": "python3",
      "display_name": "Python 3"
    },
    "language_info": {
      "name": "python"
    }
  },
  "cells": [
    {
      "cell_type": "markdown",
      "metadata": {
        "id": "view-in-github",
        "colab_type": "text"
      },
      "source": [
        "<a href=\"https://colab.research.google.com/github/NurhayatYurtaslan/Dogal-Dil-Isleme_NLP/blob/main/Lemmatization_ile_Girilen_Kelimenin_T%C3%BCr%C3%BCn%C3%BC_ve_K%C3%B6k%C3%BCn%C3%BC_Bulmak.ipynb\" target=\"_parent\"><img src=\"https://colab.research.google.com/assets/colab-badge.svg\" alt=\"Open In Colab\"/></a>"
      ]
    },
    {
      "cell_type": "code",
      "execution_count": 4,
      "metadata": {
        "colab": {
          "base_uri": "https://localhost:8080/"
        },
        "id": "ARROvIhnPif_",
        "outputId": "a559cee6-1338-4a92-8f71-df26fbcff86e"
      },
      "outputs": [
        {
          "output_type": "stream",
          "name": "stderr",
          "text": [
            "[nltk_data] Downloading package wordnet to /root/nltk_data...\n",
            "[nltk_data]   Package wordnet is already up-to-date!\n",
            "[nltk_data] Downloading package averaged_perceptron_tagger to\n",
            "[nltk_data]     /root/nltk_data...\n",
            "[nltk_data]   Package averaged_perceptron_tagger is already up-to-\n",
            "[nltk_data]       date!\n"
          ]
        },
        {
          "output_type": "stream",
          "name": "stdout",
          "text": [
            "Kelime: giveing\n",
            "Kelime: giveing\n",
            "POS: V\n",
            "Kök: give\n"
          ]
        }
      ],
      "source": [
        "import nltk\n",
        "nltk.download('wordnet')\n",
        "nltk.download('averaged_perceptron_tagger')\n",
        "from nltk.stem import WordNetLemmatizer\n",
        "\n",
        "# İlk olarak, kullanıcıdan bir kelime girmesini istiyoruz.\n",
        "word = input(\"Kelime: \")\n",
        "\n",
        "# Kelimenin hangi türe ait olduğunu belirlemek için pos_tag() fonksiyonunu kullanıyoruz.\n",
        "tagged = nltk.pos_tag([word])[0]\n",
        "tag = tagged[1][0].lower() if tagged[1][0].lower() in ['a', 'n', 'v'] else 'n'\n",
        "\n",
        "# WordNetLemmatizer sınıfını kullanarak kelimenin kökünü buluyoruz.\n",
        "wnl = WordNetLemmatizer()\n",
        "lemma = wnl.lemmatize(word, tag)\n",
        "\n",
        "# Sonuçları ekrana yazdırıyoruz.\n",
        "print(\"Kelime:\", word)\n",
        "print(\"POS:\", tag.upper())\n",
        "print(\"Kök:\", lemma)"
      ]
    }
  ]
}